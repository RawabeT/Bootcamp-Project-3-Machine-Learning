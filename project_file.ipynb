{
 "cells": [
  {
   "cell_type": "code",
   "execution_count": 236,
   "id": "d104c7e4",
   "metadata": {},
   "outputs": [],
   "source": [
    "#import libraries\n",
    "import warnings\n",
    "warnings.filterwarnings(\"ignore\")\n",
    "import numpy as np\n",
    "import matplotlib.pyplot as plt\n",
    "import pandas as pd\n",
    "import seaborn as sns"
   ]
  },
  {
   "cell_type": "code",
   "execution_count": 237,
   "id": "1ffb13aa",
   "metadata": {},
   "outputs": [],
   "source": [
    "#import dataset\n",
    "df = pd.read_csv('dataset/gold.csv')"
   ]
  },
  {
   "cell_type": "code",
   "execution_count": 238,
   "id": "2dc2b373",
   "metadata": {},
   "outputs": [],
   "source": [
    "#EDA"
   ]
  },
  {
   "cell_type": "code",
   "execution_count": 239,
   "id": "aa5515a4",
   "metadata": {},
   "outputs": [],
   "source": [
    "#steps: head, shape, info, describe, missing values"
   ]
  },
  {
   "cell_type": "code",
   "execution_count": 240,
   "id": "b4e7a484",
   "metadata": {},
   "outputs": [
    {
     "data": {
      "text/html": [
       "<div>\n",
       "<style scoped>\n",
       "    .dataframe tbody tr th:only-of-type {\n",
       "        vertical-align: middle;\n",
       "    }\n",
       "\n",
       "    .dataframe tbody tr th {\n",
       "        vertical-align: top;\n",
       "    }\n",
       "\n",
       "    .dataframe thead th {\n",
       "        text-align: right;\n",
       "    }\n",
       "</style>\n",
       "<table border=\"1\" class=\"dataframe\">\n",
       "  <thead>\n",
       "    <tr style=\"text-align: right;\">\n",
       "      <th></th>\n",
       "      <th>Date</th>\n",
       "      <th>Price</th>\n",
       "      <th>Open</th>\n",
       "      <th>High</th>\n",
       "      <th>Low</th>\n",
       "      <th>Vol.</th>\n",
       "      <th>Change %</th>\n",
       "    </tr>\n",
       "  </thead>\n",
       "  <tbody>\n",
       "    <tr>\n",
       "      <th>0</th>\n",
       "      <td>11/11/2022</td>\n",
       "      <td>1,768.85</td>\n",
       "      <td>1,755.50</td>\n",
       "      <td>1,770.55</td>\n",
       "      <td>1,750.35</td>\n",
       "      <td>NaN</td>\n",
       "      <td>0.86%</td>\n",
       "    </tr>\n",
       "    <tr>\n",
       "      <th>1</th>\n",
       "      <td>11/10/2022</td>\n",
       "      <td>1,753.70</td>\n",
       "      <td>1,709.70</td>\n",
       "      <td>1,760.60</td>\n",
       "      <td>1,705.50</td>\n",
       "      <td>305.72K</td>\n",
       "      <td>2.33%</td>\n",
       "    </tr>\n",
       "    <tr>\n",
       "      <th>2</th>\n",
       "      <td>11/09/2022</td>\n",
       "      <td>1,713.70</td>\n",
       "      <td>1,715.20</td>\n",
       "      <td>1,725.80</td>\n",
       "      <td>1,705.10</td>\n",
       "      <td>239.65K</td>\n",
       "      <td>-0.13%</td>\n",
       "    </tr>\n",
       "    <tr>\n",
       "      <th>3</th>\n",
       "      <td>11/08/2022</td>\n",
       "      <td>1,716.00</td>\n",
       "      <td>1,678.00</td>\n",
       "      <td>1,720.40</td>\n",
       "      <td>1,667.10</td>\n",
       "      <td>297.62K</td>\n",
       "      <td>2.11%</td>\n",
       "    </tr>\n",
       "    <tr>\n",
       "      <th>4</th>\n",
       "      <td>11/07/2022</td>\n",
       "      <td>1,680.50</td>\n",
       "      <td>1,678.60</td>\n",
       "      <td>1,685.60</td>\n",
       "      <td>1,670.00</td>\n",
       "      <td>187.59K</td>\n",
       "      <td>0.23%</td>\n",
       "    </tr>\n",
       "  </tbody>\n",
       "</table>\n",
       "</div>"
      ],
      "text/plain": [
       "         Date     Price      Open      High       Low     Vol. Change %\n",
       "0  11/11/2022  1,768.85  1,755.50  1,770.55  1,750.35      NaN    0.86%\n",
       "1  11/10/2022  1,753.70  1,709.70  1,760.60  1,705.50  305.72K    2.33%\n",
       "2  11/09/2022  1,713.70  1,715.20  1,725.80  1,705.10  239.65K   -0.13%\n",
       "3  11/08/2022  1,716.00  1,678.00  1,720.40  1,667.10  297.62K    2.11%\n",
       "4  11/07/2022  1,680.50  1,678.60  1,685.60  1,670.00  187.59K    0.23%"
      ]
     },
     "execution_count": 240,
     "metadata": {},
     "output_type": "execute_result"
    }
   ],
   "source": [
    "df.head()"
   ]
  },
  {
   "cell_type": "code",
   "execution_count": 241,
   "id": "d58e1f49",
   "metadata": {},
   "outputs": [],
   "source": [
    "df = df.rename(columns={'Vol.': 'Volume'})"
   ]
  },
  {
   "cell_type": "code",
   "execution_count": 242,
   "id": "0f75b1e1",
   "metadata": {},
   "outputs": [
    {
     "data": {
      "text/plain": [
       "(3322, 7)"
      ]
     },
     "execution_count": 242,
     "metadata": {},
     "output_type": "execute_result"
    }
   ],
   "source": [
    "df.shape"
   ]
  },
  {
   "cell_type": "code",
   "execution_count": 243,
   "id": "b5f89a1b",
   "metadata": {},
   "outputs": [
    {
     "name": "stdout",
     "output_type": "stream",
     "text": [
      "<class 'pandas.core.frame.DataFrame'>\n",
      "RangeIndex: 3322 entries, 0 to 3321\n",
      "Data columns (total 7 columns):\n",
      " #   Column    Non-Null Count  Dtype \n",
      "---  ------    --------------  ----- \n",
      " 0   Date      3322 non-null   object\n",
      " 1   Price     3322 non-null   object\n",
      " 2   Open      3322 non-null   object\n",
      " 3   High      3322 non-null   object\n",
      " 4   Low       3322 non-null   object\n",
      " 5   Volume    3317 non-null   object\n",
      " 6   Change %  3322 non-null   object\n",
      "dtypes: object(7)\n",
      "memory usage: 181.8+ KB\n"
     ]
    }
   ],
   "source": [
    "df.info()"
   ]
  },
  {
   "cell_type": "code",
   "execution_count": 244,
   "id": "d99b76e9",
   "metadata": {},
   "outputs": [
    {
     "data": {
      "text/html": [
       "<div>\n",
       "<style scoped>\n",
       "    .dataframe tbody tr th:only-of-type {\n",
       "        vertical-align: middle;\n",
       "    }\n",
       "\n",
       "    .dataframe tbody tr th {\n",
       "        vertical-align: top;\n",
       "    }\n",
       "\n",
       "    .dataframe thead th {\n",
       "        text-align: right;\n",
       "    }\n",
       "</style>\n",
       "<table border=\"1\" class=\"dataframe\">\n",
       "  <thead>\n",
       "    <tr style=\"text-align: right;\">\n",
       "      <th></th>\n",
       "      <th>count</th>\n",
       "      <th>unique</th>\n",
       "      <th>top</th>\n",
       "      <th>freq</th>\n",
       "    </tr>\n",
       "  </thead>\n",
       "  <tbody>\n",
       "    <tr>\n",
       "      <th>Date</th>\n",
       "      <td>3322</td>\n",
       "      <td>3322</td>\n",
       "      <td>11/11/2022</td>\n",
       "      <td>1</td>\n",
       "    </tr>\n",
       "    <tr>\n",
       "      <th>Price</th>\n",
       "      <td>3322</td>\n",
       "      <td>2598</td>\n",
       "      <td>1,198.00</td>\n",
       "      <td>5</td>\n",
       "    </tr>\n",
       "    <tr>\n",
       "      <th>Open</th>\n",
       "      <td>3322</td>\n",
       "      <td>2592</td>\n",
       "      <td>1,223.00</td>\n",
       "      <td>5</td>\n",
       "    </tr>\n",
       "    <tr>\n",
       "      <th>High</th>\n",
       "      <td>3322</td>\n",
       "      <td>2573</td>\n",
       "      <td>1,304.80</td>\n",
       "      <td>6</td>\n",
       "    </tr>\n",
       "    <tr>\n",
       "      <th>Low</th>\n",
       "      <td>3322</td>\n",
       "      <td>2580</td>\n",
       "      <td>1,190.00</td>\n",
       "      <td>5</td>\n",
       "    </tr>\n",
       "    <tr>\n",
       "      <th>Volume</th>\n",
       "      <td>3317</td>\n",
       "      <td>1910</td>\n",
       "      <td>0.02K</td>\n",
       "      <td>57</td>\n",
       "    </tr>\n",
       "    <tr>\n",
       "      <th>Change %</th>\n",
       "      <td>3322</td>\n",
       "      <td>522</td>\n",
       "      <td>0.00%</td>\n",
       "      <td>36</td>\n",
       "    </tr>\n",
       "  </tbody>\n",
       "</table>\n",
       "</div>"
      ],
      "text/plain": [
       "         count unique         top freq\n",
       "Date      3322   3322  11/11/2022    1\n",
       "Price     3322   2598    1,198.00    5\n",
       "Open      3322   2592    1,223.00    5\n",
       "High      3322   2573    1,304.80    6\n",
       "Low       3322   2580    1,190.00    5\n",
       "Volume    3317   1910       0.02K   57\n",
       "Change %  3322    522       0.00%   36"
      ]
     },
     "execution_count": 244,
     "metadata": {},
     "output_type": "execute_result"
    }
   ],
   "source": [
    "df.describe().T"
   ]
  },
  {
   "cell_type": "code",
   "execution_count": 245,
   "id": "45582ed4",
   "metadata": {},
   "outputs": [
    {
     "data": {
      "text/plain": [
       "Date        0\n",
       "Price       0\n",
       "Open        0\n",
       "High        0\n",
       "Low         0\n",
       "Volume      5\n",
       "Change %    0\n",
       "dtype: int64"
      ]
     },
     "execution_count": 245,
     "metadata": {},
     "output_type": "execute_result"
    }
   ],
   "source": [
    "df.isnull().sum()"
   ]
  },
  {
   "cell_type": "code",
   "execution_count": 246,
   "id": "3c0d73ef",
   "metadata": {},
   "outputs": [],
   "source": [
    "df['Volume'] = df['Volume'].str.replace('.', '').str.replace('K', '0')\n",
    "df['Price'] = df['Price'].str.replace(',', '')\n",
    "df['Open'] = df['Open'].str.replace(',', '')\n",
    "df['High'] = df['High'].str.replace(',', '')\n",
    "df['Low'] = df['Low'].str.replace(',', '')"
   ]
  },
  {
   "cell_type": "code",
   "execution_count": 247,
   "id": "5fe023e8",
   "metadata": {},
   "outputs": [
    {
     "data": {
      "text/html": [
       "<div>\n",
       "<style scoped>\n",
       "    .dataframe tbody tr th:only-of-type {\n",
       "        vertical-align: middle;\n",
       "    }\n",
       "\n",
       "    .dataframe tbody tr th {\n",
       "        vertical-align: top;\n",
       "    }\n",
       "\n",
       "    .dataframe thead th {\n",
       "        text-align: right;\n",
       "    }\n",
       "</style>\n",
       "<table border=\"1\" class=\"dataframe\">\n",
       "  <thead>\n",
       "    <tr style=\"text-align: right;\">\n",
       "      <th></th>\n",
       "      <th>Date</th>\n",
       "      <th>Price</th>\n",
       "      <th>Open</th>\n",
       "      <th>High</th>\n",
       "      <th>Low</th>\n",
       "      <th>Volume</th>\n",
       "      <th>Change %</th>\n",
       "    </tr>\n",
       "  </thead>\n",
       "  <tbody>\n",
       "    <tr>\n",
       "      <th>0</th>\n",
       "      <td>11/11/2022</td>\n",
       "      <td>1768.85</td>\n",
       "      <td>1755.50</td>\n",
       "      <td>1770.55</td>\n",
       "      <td>1750.35</td>\n",
       "      <td>NaN</td>\n",
       "      <td>0.86%</td>\n",
       "    </tr>\n",
       "    <tr>\n",
       "      <th>1</th>\n",
       "      <td>11/10/2022</td>\n",
       "      <td>1753.70</td>\n",
       "      <td>1709.70</td>\n",
       "      <td>1760.60</td>\n",
       "      <td>1705.50</td>\n",
       "      <td>305720</td>\n",
       "      <td>2.33%</td>\n",
       "    </tr>\n",
       "    <tr>\n",
       "      <th>2</th>\n",
       "      <td>11/09/2022</td>\n",
       "      <td>1713.70</td>\n",
       "      <td>1715.20</td>\n",
       "      <td>1725.80</td>\n",
       "      <td>1705.10</td>\n",
       "      <td>239650</td>\n",
       "      <td>-0.13%</td>\n",
       "    </tr>\n",
       "    <tr>\n",
       "      <th>3</th>\n",
       "      <td>11/08/2022</td>\n",
       "      <td>1716.00</td>\n",
       "      <td>1678.00</td>\n",
       "      <td>1720.40</td>\n",
       "      <td>1667.10</td>\n",
       "      <td>297620</td>\n",
       "      <td>2.11%</td>\n",
       "    </tr>\n",
       "    <tr>\n",
       "      <th>4</th>\n",
       "      <td>11/07/2022</td>\n",
       "      <td>1680.50</td>\n",
       "      <td>1678.60</td>\n",
       "      <td>1685.60</td>\n",
       "      <td>1670.00</td>\n",
       "      <td>187590</td>\n",
       "      <td>0.23%</td>\n",
       "    </tr>\n",
       "  </tbody>\n",
       "</table>\n",
       "</div>"
      ],
      "text/plain": [
       "         Date    Price     Open     High      Low  Volume Change %\n",
       "0  11/11/2022  1768.85  1755.50  1770.55  1750.35     NaN    0.86%\n",
       "1  11/10/2022  1753.70  1709.70  1760.60  1705.50  305720    2.33%\n",
       "2  11/09/2022  1713.70  1715.20  1725.80  1705.10  239650   -0.13%\n",
       "3  11/08/2022  1716.00  1678.00  1720.40  1667.10  297620    2.11%\n",
       "4  11/07/2022  1680.50  1678.60  1685.60  1670.00  187590    0.23%"
      ]
     },
     "execution_count": 247,
     "metadata": {},
     "output_type": "execute_result"
    }
   ],
   "source": [
    "df.head()"
   ]
  },
  {
   "cell_type": "code",
   "execution_count": 248,
   "id": "81493ad4",
   "metadata": {},
   "outputs": [],
   "source": [
    "df = df.astype({'Price':'float' ,\n",
    "                'Open':'float', \n",
    "                'Volume':'float',\n",
    "                'Low':'float',\n",
    "                'High':'float'})\n",
    "\n",
    "splitted = df['Date'].str.split('/', expand=True)\n",
    "df['day'] = splitted[1].astype('int')\n",
    "df['month'] = splitted[0].astype('int')\n",
    "df['year'] = splitted[2].astype('int')"
   ]
  },
  {
   "cell_type": "code",
   "execution_count": 249,
   "id": "fbddc99b",
   "metadata": {},
   "outputs": [],
   "source": [
    "df = df.astype({'Date':'datetime64[ns]'})"
   ]
  },
  {
   "cell_type": "code",
   "execution_count": 250,
   "id": "e1706bf8",
   "metadata": {},
   "outputs": [],
   "source": [
    "# fill nulls using Imputation\n",
    "df['Volume'] = round(df['Volume'].interpolate());"
   ]
  },
  {
   "cell_type": "code",
   "execution_count": 251,
   "id": "fe602f34",
   "metadata": {},
   "outputs": [
    {
     "data": {
      "text/html": [
       "<div>\n",
       "<style scoped>\n",
       "    .dataframe tbody tr th:only-of-type {\n",
       "        vertical-align: middle;\n",
       "    }\n",
       "\n",
       "    .dataframe tbody tr th {\n",
       "        vertical-align: top;\n",
       "    }\n",
       "\n",
       "    .dataframe thead th {\n",
       "        text-align: right;\n",
       "    }\n",
       "</style>\n",
       "<table border=\"1\" class=\"dataframe\">\n",
       "  <thead>\n",
       "    <tr style=\"text-align: right;\">\n",
       "      <th></th>\n",
       "      <th>Date</th>\n",
       "      <th>Price</th>\n",
       "      <th>Open</th>\n",
       "      <th>High</th>\n",
       "      <th>Low</th>\n",
       "      <th>Volume</th>\n",
       "      <th>Change %</th>\n",
       "      <th>day</th>\n",
       "      <th>month</th>\n",
       "      <th>year</th>\n",
       "    </tr>\n",
       "  </thead>\n",
       "  <tbody>\n",
       "    <tr>\n",
       "      <th>0</th>\n",
       "      <td>2022-11-11</td>\n",
       "      <td>1768.85</td>\n",
       "      <td>1755.5</td>\n",
       "      <td>1770.55</td>\n",
       "      <td>1750.35</td>\n",
       "      <td>NaN</td>\n",
       "      <td>0.86%</td>\n",
       "      <td>11</td>\n",
       "      <td>11</td>\n",
       "      <td>2022</td>\n",
       "    </tr>\n",
       "    <tr>\n",
       "      <th>1</th>\n",
       "      <td>2022-11-10</td>\n",
       "      <td>1753.70</td>\n",
       "      <td>1709.7</td>\n",
       "      <td>1760.60</td>\n",
       "      <td>1705.50</td>\n",
       "      <td>305720.0</td>\n",
       "      <td>2.33%</td>\n",
       "      <td>10</td>\n",
       "      <td>11</td>\n",
       "      <td>2022</td>\n",
       "    </tr>\n",
       "    <tr>\n",
       "      <th>2</th>\n",
       "      <td>2022-11-09</td>\n",
       "      <td>1713.70</td>\n",
       "      <td>1715.2</td>\n",
       "      <td>1725.80</td>\n",
       "      <td>1705.10</td>\n",
       "      <td>239650.0</td>\n",
       "      <td>-0.13%</td>\n",
       "      <td>9</td>\n",
       "      <td>11</td>\n",
       "      <td>2022</td>\n",
       "    </tr>\n",
       "    <tr>\n",
       "      <th>3</th>\n",
       "      <td>2022-11-08</td>\n",
       "      <td>1716.00</td>\n",
       "      <td>1678.0</td>\n",
       "      <td>1720.40</td>\n",
       "      <td>1667.10</td>\n",
       "      <td>297620.0</td>\n",
       "      <td>2.11%</td>\n",
       "      <td>8</td>\n",
       "      <td>11</td>\n",
       "      <td>2022</td>\n",
       "    </tr>\n",
       "    <tr>\n",
       "      <th>4</th>\n",
       "      <td>2022-11-07</td>\n",
       "      <td>1680.50</td>\n",
       "      <td>1678.6</td>\n",
       "      <td>1685.60</td>\n",
       "      <td>1670.00</td>\n",
       "      <td>187590.0</td>\n",
       "      <td>0.23%</td>\n",
       "      <td>7</td>\n",
       "      <td>11</td>\n",
       "      <td>2022</td>\n",
       "    </tr>\n",
       "    <tr>\n",
       "      <th>...</th>\n",
       "      <td>...</td>\n",
       "      <td>...</td>\n",
       "      <td>...</td>\n",
       "      <td>...</td>\n",
       "      <td>...</td>\n",
       "      <td>...</td>\n",
       "      <td>...</td>\n",
       "      <td>...</td>\n",
       "      <td>...</td>\n",
       "      <td>...</td>\n",
       "    </tr>\n",
       "    <tr>\n",
       "      <th>3317</th>\n",
       "      <td>2010-01-08</td>\n",
       "      <td>1139.60</td>\n",
       "      <td>1129.5</td>\n",
       "      <td>1140.40</td>\n",
       "      <td>1121.00</td>\n",
       "      <td>150.0</td>\n",
       "      <td>0.46%</td>\n",
       "      <td>8</td>\n",
       "      <td>1</td>\n",
       "      <td>2010</td>\n",
       "    </tr>\n",
       "    <tr>\n",
       "      <th>3318</th>\n",
       "      <td>2010-01-07</td>\n",
       "      <td>1134.40</td>\n",
       "      <td>1139.1</td>\n",
       "      <td>1139.10</td>\n",
       "      <td>1130.30</td>\n",
       "      <td>110.0</td>\n",
       "      <td>-0.25%</td>\n",
       "      <td>7</td>\n",
       "      <td>1</td>\n",
       "      <td>2010</td>\n",
       "    </tr>\n",
       "    <tr>\n",
       "      <th>3319</th>\n",
       "      <td>2010-01-06</td>\n",
       "      <td>1137.20</td>\n",
       "      <td>1119.4</td>\n",
       "      <td>1140.90</td>\n",
       "      <td>1119.40</td>\n",
       "      <td>120.0</td>\n",
       "      <td>1.59%</td>\n",
       "      <td>6</td>\n",
       "      <td>1</td>\n",
       "      <td>2010</td>\n",
       "    </tr>\n",
       "    <tr>\n",
       "      <th>3320</th>\n",
       "      <td>2010-01-05</td>\n",
       "      <td>1119.40</td>\n",
       "      <td>1122.5</td>\n",
       "      <td>1128.10</td>\n",
       "      <td>1116.60</td>\n",
       "      <td>100.0</td>\n",
       "      <td>0.04%</td>\n",
       "      <td>5</td>\n",
       "      <td>1</td>\n",
       "      <td>2010</td>\n",
       "    </tr>\n",
       "    <tr>\n",
       "      <th>3321</th>\n",
       "      <td>2010-01-04</td>\n",
       "      <td>1119.00</td>\n",
       "      <td>1095.0</td>\n",
       "      <td>1124.80</td>\n",
       "      <td>1095.00</td>\n",
       "      <td>140.0</td>\n",
       "      <td>2.01%</td>\n",
       "      <td>4</td>\n",
       "      <td>1</td>\n",
       "      <td>2010</td>\n",
       "    </tr>\n",
       "  </tbody>\n",
       "</table>\n",
       "<p>3322 rows × 10 columns</p>\n",
       "</div>"
      ],
      "text/plain": [
       "           Date    Price    Open     High      Low    Volume Change %  day  \\\n",
       "0    2022-11-11  1768.85  1755.5  1770.55  1750.35       NaN    0.86%   11   \n",
       "1    2022-11-10  1753.70  1709.7  1760.60  1705.50  305720.0    2.33%   10   \n",
       "2    2022-11-09  1713.70  1715.2  1725.80  1705.10  239650.0   -0.13%    9   \n",
       "3    2022-11-08  1716.00  1678.0  1720.40  1667.10  297620.0    2.11%    8   \n",
       "4    2022-11-07  1680.50  1678.6  1685.60  1670.00  187590.0    0.23%    7   \n",
       "...         ...      ...     ...      ...      ...       ...      ...  ...   \n",
       "3317 2010-01-08  1139.60  1129.5  1140.40  1121.00     150.0    0.46%    8   \n",
       "3318 2010-01-07  1134.40  1139.1  1139.10  1130.30     110.0   -0.25%    7   \n",
       "3319 2010-01-06  1137.20  1119.4  1140.90  1119.40     120.0    1.59%    6   \n",
       "3320 2010-01-05  1119.40  1122.5  1128.10  1116.60     100.0    0.04%    5   \n",
       "3321 2010-01-04  1119.00  1095.0  1124.80  1095.00     140.0    2.01%    4   \n",
       "\n",
       "      month  year  \n",
       "0        11  2022  \n",
       "1        11  2022  \n",
       "2        11  2022  \n",
       "3        11  2022  \n",
       "4        11  2022  \n",
       "...     ...   ...  \n",
       "3317      1  2010  \n",
       "3318      1  2010  \n",
       "3319      1  2010  \n",
       "3320      1  2010  \n",
       "3321      1  2010  \n",
       "\n",
       "[3322 rows x 10 columns]"
      ]
     },
     "execution_count": 251,
     "metadata": {},
     "output_type": "execute_result"
    }
   ],
   "source": [
    "df"
   ]
  },
  {
   "cell_type": "code",
   "execution_count": 252,
   "id": "c5ad964e",
   "metadata": {},
   "outputs": [],
   "source": [
    "df = df.iloc[1:, :]\n",
    "df = df.drop(['Change %'], axis=1)"
   ]
  },
  {
   "cell_type": "code",
   "execution_count": 253,
   "id": "e8165917",
   "metadata": {},
   "outputs": [
    {
     "name": "stdout",
     "output_type": "stream",
     "text": [
      "<class 'pandas.core.frame.DataFrame'>\n",
      "RangeIndex: 3321 entries, 1 to 3321\n",
      "Data columns (total 9 columns):\n",
      " #   Column  Non-Null Count  Dtype         \n",
      "---  ------  --------------  -----         \n",
      " 0   Date    3321 non-null   datetime64[ns]\n",
      " 1   Price   3321 non-null   float64       \n",
      " 2   Open    3321 non-null   float64       \n",
      " 3   High    3321 non-null   float64       \n",
      " 4   Low     3321 non-null   float64       \n",
      " 5   Volume  3321 non-null   float64       \n",
      " 6   day     3321 non-null   int64         \n",
      " 7   month   3321 non-null   int64         \n",
      " 8   year    3321 non-null   int64         \n",
      "dtypes: datetime64[ns](1), float64(5), int64(3)\n",
      "memory usage: 233.6 KB\n"
     ]
    }
   ],
   "source": [
    "df.info()"
   ]
  },
  {
   "cell_type": "code",
   "execution_count": 254,
   "id": "c1b0c04a",
   "metadata": {},
   "outputs": [
    {
     "data": {
      "text/plain": [
       "Date      0\n",
       "Price     0\n",
       "Open      0\n",
       "High      0\n",
       "Low       0\n",
       "Volume    0\n",
       "day       0\n",
       "month     0\n",
       "year      0\n",
       "dtype: int64"
      ]
     },
     "execution_count": 254,
     "metadata": {},
     "output_type": "execute_result"
    }
   ],
   "source": [
    "df.isnull().sum()"
   ]
  },
  {
   "cell_type": "code",
   "execution_count": 255,
   "id": "5df676f8",
   "metadata": {},
   "outputs": [],
   "source": [
    "# calculate MA moving avg\n",
    "df['Mean Avg 30Day'] = df['Price'].rolling(window=20, min_periods=1).mean()"
   ]
  },
  {
   "cell_type": "code",
   "execution_count": 256,
   "id": "3a5d27ca",
   "metadata": {},
   "outputs": [
    {
     "data": {
      "text/plain": [
       "0"
      ]
     },
     "execution_count": 256,
     "metadata": {},
     "output_type": "execute_result"
    }
   ],
   "source": [
    "#Find the duplicates on date\n",
    "df['Date'].duplicated().sum()"
   ]
  },
  {
   "cell_type": "code",
   "execution_count": 257,
   "id": "fea99d0a",
   "metadata": {},
   "outputs": [],
   "source": [
    "#Display charts"
   ]
  },
  {
   "cell_type": "code",
   "execution_count": 258,
   "id": "d530914b",
   "metadata": {},
   "outputs": [
    {
     "data": {
      "image/png": "[encoded data removed]",
      "text/plain": [
       "<Figure size 864x360 with 1 Axes>"
      ]
     },
     "metadata": {
      "needs_background": "light"
     },
     "output_type": "display_data"
    }
   ],
   "source": [
    "f= plt.figure(figsize=(12,5))\n",
    "\n",
    "plt.plot(df['Date'], df['Price'], label='Price');\n",
    "plt.plot(df['Date'], df['Mean Avg 30Day'], label='Mean Avg 30Day');\n",
    "plt.legend();"
   ]
  },
  {
   "cell_type": "code",
   "execution_count": 259,
   "id": "c2bd392d",
   "metadata": {},
   "outputs": [
    {
     "data": {
      "image/png": "[encoded data removed]",
      "text/plain": [
       "<Figure size 1152x576 with 1 Axes>"
      ]
     },
     "metadata": {
      "needs_background": "light"
     },
     "output_type": "display_data"
    }
   ],
   "source": [
    "plt.figure(figsize = (16,8))\n",
    "sns.lineplot(data=df, x=\"Date\", y=\"Price\");"
   ]
  },
  {
   "cell_type": "code",
   "execution_count": 260,
   "id": "e03836d2",
   "metadata": {},
   "outputs": [
    {
     "data": {
      "image/png": "[encoded data removed]",
      "text/plain": [
       "<Figure size 432x288 with 2 Axes>"
      ]
     },
     "metadata": {
      "needs_background": "light"
     },
     "output_type": "display_data"
    }
   ],
   "source": [
    "sns.heatmap(df.corr());"
   ]
  },
  {
   "cell_type": "code",
   "execution_count": 261,
   "id": "016280a3",
   "metadata": {},
   "outputs": [],
   "source": [
    "#splitting"
   ]
  },
  {
   "cell_type": "code",
   "execution_count": 262,
   "id": "8e597979",
   "metadata": {},
   "outputs": [],
   "source": [
    "#train-test split \n",
    "from sklearn.model_selection import train_test_split, TimeSeriesSplit, cross_validate\n",
    "from sklearn import preprocessing\n",
    "from sklearn.preprocessing import StandardScaler, MinMaxScaler\n",
    "from sklearn import metrics\n",
    "from sklearn.linear_model import LinearRegression\n",
    "from sklearn.ensemble import RandomForestClassifier, RandomForestRegressor\n",
    "\n",
    "\n",
    "X = df.drop(['Price','Mean Avg 30Day','Date'],axis=1)\n",
    "y = df['Price']\n",
    "\n",
    "#convert y values to categorical values\n",
    "lab = preprocessing.LabelEncoder()\n",
    "y_transformed = lab.fit_transform(y)\n",
    "\n",
    "X_train, X_test, y_train, y_test = train_test_split(X, y_transformed, test_size = 0.3)"
   ]
  },
  {
   "cell_type": "code",
   "execution_count": 263,
   "id": "44f86f48",
   "metadata": {},
   "outputs": [],
   "source": [
    "scale = StandardScaler()\n",
    "X_train = scale.fit_transform(X_train)\n",
    "X_test = scale.transform(X_test)"
   ]
  },
  {
   "cell_type": "code",
   "execution_count": 264,
   "id": "7ff69857",
   "metadata": {},
   "outputs": [
    {
     "data": {
      "text/plain": [
       "RandomForestRegressor(max_depth=10, n_estimators=500, random_state=42)"
      ]
     },
     "execution_count": 264,
     "metadata": {},
     "output_type": "execute_result"
    }
   ],
   "source": [
    "#RandomForestRegressor model\n",
    "\n",
    "regr = RandomForestRegressor(n_estimators=500, random_state=42, max_depth=10)\n",
    "regr.fit(X_train, y_train)"
   ]
  },
  {
   "cell_type": "code",
   "execution_count": 265,
   "id": "5afba7c1",
   "metadata": {},
   "outputs": [],
   "source": [
    "predict = regr.predict(X_test)"
   ]
  },
  {
   "cell_type": "code",
   "execution_count": 266,
   "id": "5655575e",
   "metadata": {},
   "outputs": [
    {
     "data": {
      "text/plain": [
       "{'fit_time': array([3.14123702, 3.07137585, 3.07997203, 3.06941915, 3.04732323]),\n",
       " 'score_time': array([0.05398798, 0.06033778, 0.05357909, 0.06146288, 0.06255102]),\n",
       " 'test_score': array([0.94451958, 0.99718163, 0.99383582, 0.99653668, 0.99875677])}"
      ]
     },
     "execution_count": 266,
     "metadata": {},
     "output_type": "execute_result"
    }
   ],
   "source": [
    "#cross-validation split\n",
    "scores = cross_validate(regr, X, y_transformed, cv=5)\n",
    "scores"
   ]
  },
  {
   "cell_type": "code",
   "execution_count": 271,
   "id": "eb24859f",
   "metadata": {},
   "outputs": [
    {
     "name": "stdout",
     "output_type": "stream",
     "text": [
      "MAE: 17.213550548555734\n",
      "MSE: 708.670462404374\n",
      "RMSE: 26.62086517009494\n"
     ]
    }
   ],
   "source": [
    "#metrics\n",
    "# from sklearn.metrics import classification_report, confusion_matrix, accuracy_score\n",
    "from sklearn import metrics\n",
    "\n",
    "\n",
    "print('MAE:', metrics.mean_absolute_error(y_test, predict))\n",
    "print('MSE:', metrics.mean_squared_error(y_test, predict))\n",
    "print('RMSE:', np.sqrt(metrics.mean_squared_error(y_test, predict)))"
   ]
  },
  {
   "cell_type": "code",
   "execution_count": 231,
   "id": "c4f35fb8",
   "metadata": {},
   "outputs": [],
   "source": [
    "#chart"
   ]
  },
  {
   "cell_type": "code",
   "execution_count": 304,
   "id": "9db6ff9d",
   "metadata": {},
   "outputs": [
    {
     "data": {
      "text/html": [
       "<div>\n",
       "<style scoped>\n",
       "    .dataframe tbody tr th:only-of-type {\n",
       "        vertical-align: middle;\n",
       "    }\n",
       "\n",
       "    .dataframe tbody tr th {\n",
       "        vertical-align: top;\n",
       "    }\n",
       "\n",
       "    .dataframe thead th {\n",
       "        text-align: right;\n",
       "    }\n",
       "</style>\n",
       "<table border=\"1\" class=\"dataframe\">\n",
       "  <thead>\n",
       "    <tr style=\"text-align: right;\">\n",
       "      <th></th>\n",
       "      <th>Predictions</th>\n",
       "      <th>Actual Price</th>\n",
       "      <th>Date</th>\n",
       "    </tr>\n",
       "  </thead>\n",
       "  <tbody>\n",
       "    <tr>\n",
       "      <th>0</th>\n",
       "      <td>1715.452478</td>\n",
       "      <td>1721</td>\n",
       "      <td>2023-01-01</td>\n",
       "    </tr>\n",
       "    <tr>\n",
       "      <th>1</th>\n",
       "      <td>298.130194</td>\n",
       "      <td>303</td>\n",
       "      <td>2023-01-02</td>\n",
       "    </tr>\n",
       "    <tr>\n",
       "      <th>2</th>\n",
       "      <td>2292.092460</td>\n",
       "      <td>2315</td>\n",
       "      <td>2023-01-03</td>\n",
       "    </tr>\n",
       "    <tr>\n",
       "      <th>3</th>\n",
       "      <td>205.877602</td>\n",
       "      <td>200</td>\n",
       "      <td>2023-01-04</td>\n",
       "    </tr>\n",
       "    <tr>\n",
       "      <th>4</th>\n",
       "      <td>735.444670</td>\n",
       "      <td>753</td>\n",
       "      <td>2023-01-05</td>\n",
       "    </tr>\n",
       "    <tr>\n",
       "      <th>...</th>\n",
       "      <td>...</td>\n",
       "      <td>...</td>\n",
       "      <td>...</td>\n",
       "    </tr>\n",
       "    <tr>\n",
       "      <th>992</th>\n",
       "      <td>1335.353834</td>\n",
       "      <td>1328</td>\n",
       "      <td>2025-09-19</td>\n",
       "    </tr>\n",
       "    <tr>\n",
       "      <th>993</th>\n",
       "      <td>799.887713</td>\n",
       "      <td>784</td>\n",
       "      <td>2025-09-20</td>\n",
       "    </tr>\n",
       "    <tr>\n",
       "      <th>994</th>\n",
       "      <td>1911.290271</td>\n",
       "      <td>1908</td>\n",
       "      <td>2025-09-21</td>\n",
       "    </tr>\n",
       "    <tr>\n",
       "      <th>995</th>\n",
       "      <td>1970.344959</td>\n",
       "      <td>2046</td>\n",
       "      <td>2025-09-22</td>\n",
       "    </tr>\n",
       "    <tr>\n",
       "      <th>996</th>\n",
       "      <td>1088.687053</td>\n",
       "      <td>1095</td>\n",
       "      <td>2025-09-23</td>\n",
       "    </tr>\n",
       "  </tbody>\n",
       "</table>\n",
       "<p>997 rows × 3 columns</p>\n",
       "</div>"
      ],
      "text/plain": [
       "     Predictions  Actual Price       Date\n",
       "0    1715.452478          1721 2023-01-01\n",
       "1     298.130194           303 2023-01-02\n",
       "2    2292.092460          2315 2023-01-03\n",
       "3     205.877602           200 2023-01-04\n",
       "4     735.444670           753 2023-01-05\n",
       "..           ...           ...        ...\n",
       "992  1335.353834          1328 2025-09-19\n",
       "993   799.887713           784 2025-09-20\n",
       "994  1911.290271          1908 2025-09-21\n",
       "995  1970.344959          2046 2025-09-22\n",
       "996  1088.687053          1095 2025-09-23\n",
       "\n",
       "[997 rows x 3 columns]"
      ]
     },
     "execution_count": 304,
     "metadata": {},
     "output_type": "execute_result"
    }
   ],
   "source": [
    "# predictions = pd.DataFrame({\"Predictions\": predict, \"Date\": pd.date_range(start ='1-1-2023', \n",
    "#                                                periods=len(predict), freq=\"D\")})\n",
    "\n",
    " \n",
    "predictions = pd.DataFrame({\"Predictions\": predict, \"Actual Price\": y_test,  \"Date\": pd.date_range(start ='1-1-2023', \n",
    "                                               periods=len(predict), freq=\"D\")})\n",
    "predictions"
   ]
  },
  {
   "cell_type": "code",
   "execution_count": 301,
   "id": "069938cf",
   "metadata": {},
   "outputs": [
    {
     "data": {
      "text/plain": [
       "<Figure size 1152x576 with 0 Axes>"
      ]
     },
     "metadata": {},
     "output_type": "display_data"
    },
    {
     "data": {
      "image/png": "[encoded data removed]",
      "text/plain": [
       "<Figure size 432x288 with 1 Axes>"
      ]
     },
     "metadata": {
      "needs_background": "light"
     },
     "output_type": "display_data"
    }
   ],
   "source": [
    "plt.figure(figsize = (16,8))\n",
    "\n",
    "plt.plot(df['Date'], df['Price'], label='Actual Price');\n",
    "plt.plot(predictions['Date'], predictions['Predictions'], label='Predicted Prices for ');\n",
    "\n",
    "plt.legend();"
   ]
  },
  {
   "cell_type": "code",
   "execution_count": null,
   "id": "ddca8717",
   "metadata": {},
   "outputs": [],
   "source": []
  },
  {
   "cell_type": "code",
   "execution_count": null,
   "id": "a0ee1b2f",
   "metadata": {},
   "outputs": [],
   "source": []
  }
 ],
 "metadata": {
  "kernelspec": {
   "display_name": "Python 3 (ipykernel)",
   "language": "python",
   "name": "python3"
  },
  "language_info": {
   "codemirror_mode": {
    "name": "ipython",
    "version": 3
   },
   "file_extension": ".py",
   "mimetype": "text/x-python",
   "name": "python",
   "nbconvert_exporter": "python",
   "pygments_lexer": "ipython3",
   "version": "3.9.12"
  }
 },
 "nbformat": 4,
 "nbformat_minor": 5
}
